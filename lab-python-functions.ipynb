{
 "cells": [
  {
   "cell_type": "markdown",
   "id": "25d7736c-ba17-4aff-b6bb-66eba20fbf4e",
   "metadata": {},
   "source": [
    "# Lab | Functions"
   ]
  },
  {
   "cell_type": "markdown",
   "id": "0c581062-8967-4d93-b06e-62833222f930",
   "metadata": {
    "tags": []
   },
   "source": [
    "## Exercise: Managing Customer Orders with Functions\n",
    "\n",
    "In the previous exercise, you improved the code for managing customer orders by using loops and flow control. Now, let's take it a step further and refactor the code by introducing functions.\n",
    "\n",
    "Follow the steps below to complete the exercise:\n",
    "\n",
    "1. Define a function named `initialize_inventory` that takes `products` as a parameter. Inside the function, implement the code for initializing the inventory dictionary using a loop and user input.\n",
    "\n",
    "2. Define a function named `get_customer_orders` that takes no parameters. Inside the function, implement the code for prompting the user to enter the product names using a loop. The function should return the `customer_orders` set.\n",
    "\n",
    "3. Define a function named `update_inventory` that takes `customer_orders` and `inventory` as parameters. Inside the function, implement the code for updating the inventory dictionary based on the customer orders.\n",
    "\n",
    "4. Define a function named `calculate_order_statistics` that takes `customer_orders` and `products` as parameters. Inside the function, implement the code for calculating the order statistics (total products ordered, and percentage of unique products ordered). The function should return these values.\n",
    "\n",
    "5. Define a function named `print_order_statistics` that takes `order_statistics` as a parameter. Inside the function, implement the code for printing the order statistics.\n",
    "\n",
    "6. Define a function named `print_updated_inventory` that takes `inventory` as a parameter. Inside the function, implement the code for printing the updated inventory.\n",
    "\n",
    "7. Call the functions in the appropriate sequence to execute the program and manage customer orders.\n",
    "\n",
    "Hints for functions:\n",
    "\n",
    "- Consider the input parameters required for each function and their return values.\n",
    "- Utilize function parameters and return values to transfer data between functions.\n",
    "- Test your functions individually to ensure they work correctly.\n",
    "\n",
    "\n"
   ]
  },
  {
   "cell_type": "code",
   "execution_count": 1,
   "id": "da1c5bb0",
   "metadata": {},
   "outputs": [],
   "source": [
    "# Creamos una lista de productos\n",
    "products = [\"t-shirt\", \"mug\", \"hat\", \"book\", \"keychain\"]"
   ]
  },
  {
   "cell_type": "code",
   "execution_count": 2,
   "id": "2eb1f96b",
   "metadata": {},
   "outputs": [
    {
     "name": "stdout",
     "output_type": "stream",
     "text": [
      "{'t-shirt': 9, 'mug': 8, 'hat': 7, 'book': 6, 'keychain': 5}\n"
     ]
    }
   ],
   "source": [
    "# Definimos una funcion\n",
    "def initialize_inventory(products):\n",
    "    inventory = {}\n",
    "    for product in products:\n",
    "        inventory[product] = int(input(f\"Enter the quantity of each {product} in the inventory: \"))\n",
    "    return inventory\n",
    "inventory = initialize_inventory(products)\n",
    "print(inventory)\n",
    "\n",
    "    "
   ]
  },
  {
   "cell_type": "code",
   "execution_count": 3,
   "id": "f9c6bde3",
   "metadata": {},
   "outputs": [
    {
     "name": "stdout",
     "output_type": "stream",
     "text": [
      "{'mug', 'book', 'keychain', 'hat', 't-shirt'}\n"
     ]
    }
   ],
   "source": [
    "# Definimos otra funcion para pedir al usuario productos\n",
    "def get_customer_order():\n",
    "    customer_orders = set()\n",
    "    for product in products:\n",
    "        item = input(f\"Enter the name of each {product}: \")\n",
    "        customer_orders.add(item)\n",
    "    return customer_orders\n",
    "customer_orders = get_customer_order()\n",
    "print(customer_orders)\n",
    "    "
   ]
  },
  {
   "cell_type": "code",
   "execution_count": 16,
   "id": "51890579",
   "metadata": {},
   "outputs": [],
   "source": [
    "# Definimos otra funcion para actualizar inventario\n",
    "def update_inventory(inventory, customer_orders):\n",
    "    for product in customer_orders:\n",
    "        if inventory[product] > 0:\n",
    "            inventory[product] -= 1\n",
    "    return inventory"
   ]
  },
  {
   "cell_type": "code",
   "execution_count": 5,
   "id": "088464f3",
   "metadata": {},
   "outputs": [
    {
     "name": "stdout",
     "output_type": "stream",
     "text": [
      "\n",
      "Order Statitics: \n",
      "Total number of products ordered: 5 \n",
      "Percentage of total products ordered: 100.0%\n"
     ]
    }
   ],
   "source": [
    "# Definimos otra función para imprimir las estadisticas del pedido\n",
    "def calculate_order_statistics(products, customer_orders):\n",
    "    total_products_ordered = len(customer_orders)\n",
    "    percentage_ordered = (total_products_ordered / len(products)) * 100\n",
    "    return total_products_ordered, percentage_ordered\n",
    "\n",
    "def print_order_statistics(order_statistics):\n",
    "    total_products_ordered, percentage_ordered = order_statistics\n",
    "    print(\"\\nOrder Statitics: \")\n",
    "    print(f\"Total number of products ordered: {total_products_ordered} \")\n",
    "    print(f\"Percentage of total products ordered: {percentage_ordered:}%\")\n",
    "\n",
    "order_statistics = calculate_order_statistics(products, customer_orders)\n",
    "print_order_statistics(order_statistics)\n"
   ]
  },
  {
   "cell_type": "code",
   "execution_count": 9,
   "id": "510cdfa1",
   "metadata": {},
   "outputs": [
    {
     "name": "stdout",
     "output_type": "stream",
     "text": [
      "\n",
      "Updated Inventory: \n",
      "t-shirt: 9\n",
      "mug: 8\n",
      "hat: 7\n",
      "book: 6\n",
      "keychain: 5\n"
     ]
    }
   ],
   "source": [
    "# Imprimos el inventario actualizado\n",
    "def print_updated_inventory(inventory):\n",
    "    print(\"\\nUpdated Inventory: \")\n",
    "    for product, quantity in inventory.items():\n",
    "        print(f\"{product}: {quantity}\")\n",
    "\n",
    "print_updated_inventory(inventory)"
   ]
  },
  {
   "cell_type": "code",
   "execution_count": 17,
   "id": "12db0fb7",
   "metadata": {},
   "outputs": [
    {
     "name": "stdout",
     "output_type": "stream",
     "text": [
      "\n",
      "Order Statitics: \n",
      "Total number of products ordered: 5 \n",
      "Percentage of total products ordered: 100.0%\n",
      "\n",
      "Updated Inventory: \n",
      "t-shirt: 8\n",
      "mug: 7\n",
      "hat: 6\n",
      "book: 5\n",
      "keychain: 4\n"
     ]
    }
   ],
   "source": [
    "def main():\n",
    "    inventory = initialize_inventory(products)\n",
    "    customer_orders = get_customer_order()\n",
    "    inventory = update_inventory(inventory, customer_orders)\n",
    "\n",
    "    order_statistics = calculate_order_statistics(products, customer_orders)\n",
    "    print_order_statistics(order_statistics)\n",
    "\n",
    "    print_updated_inventory(inventory)\n",
    "\n",
    "main()"
   ]
  },
  {
   "cell_type": "code",
   "execution_count": null,
   "id": "1733cf60",
   "metadata": {},
   "outputs": [],
   "source": []
  }
 ],
 "metadata": {
  "kernelspec": {
   "display_name": "Python 3",
   "language": "python",
   "name": "python3"
  },
  "language_info": {
   "codemirror_mode": {
    "name": "ipython",
    "version": 3
   },
   "file_extension": ".py",
   "mimetype": "text/x-python",
   "name": "python",
   "nbconvert_exporter": "python",
   "pygments_lexer": "ipython3",
   "version": "3.12.9"
  }
 },
 "nbformat": 4,
 "nbformat_minor": 5
}
